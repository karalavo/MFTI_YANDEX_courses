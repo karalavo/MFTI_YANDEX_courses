{
  "metadata": {
    "kernelspec": {
      "language": "python",
      "display_name": "Python 3",
      "name": "python3"
    },
    "language_info": {
      "name": "python",
      "version": "3.10.14",
      "mimetype": "text/x-python",
      "codemirror_mode": {
        "name": "ipython",
        "version": 3
      },
      "pygments_lexer": "ipython3",
      "nbconvert_exporter": "python",
      "file_extension": ".py"
    },
    "kaggle": {
      "accelerator": "gpu",
      "dataSources": [
        {
          "sourceId": 85131,
          "databundleVersionId": 9619404,
          "sourceType": "competition"
        }
      ],
      "dockerImageVersionId": 30787,
      "isInternetEnabled": true,
      "language": "python",
      "sourceType": "notebook",
      "isGpuEnabled": true
    },
    "colab": {
      "provenance": [],
      "include_colab_link": true
    }
  },
  "nbformat_minor": 0,
  "nbformat": 4,
  "cells": [
    {
      "cell_type": "markdown",
      "metadata": {
        "id": "view-in-github",
        "colab_type": "text"
      },
      "source": [
        "<a href=\"https://colab.research.google.com/github/karalavo/MFTI_YANDEX_courses/blob/main/1.ipynb\" target=\"_parent\"><img src=\"https://colab.research.google.com/assets/colab-badge.svg\" alt=\"Open In Colab\"/></a>"
      ]
    },
    {
      "cell_type": "code",
      "source": [
        "import re\n",
        "import torch\n",
        "from transformers import AutoTokenizer, AutoModelForSequenceClassification, Trainer, TrainingArguments, AdamW, get_linear_schedule_with_warmup\n",
        "from torch.utils.data import DataLoader, Dataset\n",
        "model_name = 'cointegrated/rubert-tiny-toxicity'\n",
        "device = torch.device('cuda' if torch.cuda.is_available() else 'cpu')"
      ],
      "metadata": {
        "execution": {
          "iopub.status.busy": "2024-11-16T05:53:25.454820Z",
          "iopub.execute_input": "2024-11-16T05:53:25.455321Z",
          "iopub.status.idle": "2024-11-16T05:53:45.697698Z",
          "shell.execute_reply.started": "2024-11-16T05:53:25.455286Z",
          "shell.execute_reply": "2024-11-16T05:53:45.696683Z"
        },
        "trusted": true,
        "id": "FlXgTo7_x-8C"
      },
      "execution_count": null,
      "outputs": []
    },
    {
      "cell_type": "code",
      "source": [
        "model = AutoModelForSequenceClassification.from_pretrained(model_name, num_labels=1, ignore_mismatched_sizes=True).to(device).eval()\n",
        "tokenizer = AutoTokenizer.from_pretrained(model_name)"
      ],
      "metadata": {
        "execution": {
          "iopub.status.busy": "2024-11-16T05:53:45.699668Z",
          "iopub.execute_input": "2024-11-16T05:53:45.700298Z",
          "iopub.status.idle": "2024-11-16T05:53:47.645214Z",
          "shell.execute_reply.started": "2024-11-16T05:53:45.700261Z",
          "shell.execute_reply": "2024-11-16T05:53:47.644249Z"
        },
        "trusted": true,
        "colab": {
          "referenced_widgets": [
            "27524237cbe34d1093c05dafa6bdc8f8",
            "16caa75fe4414f6da40194f9cbd0b4c4",
            "c92df583ac554008a0e7fd786a5069bb",
            "07cb7be6d5f84b52898c3f6097796988",
            "06d306c1aec4412cb5d17cbb9366be85",
            "bc4d85f8171e4ea1922833619183c446"
          ]
        },
        "id": "W9AfOXJgx-8D",
        "outputId": "4776c897-c2ec-4c5a-b474-6e5bfc557847"
      },
      "execution_count": null,
      "outputs": [
        {
          "output_type": "display_data",
          "data": {
            "text/plain": "config.json:   0%|          | 0.00/957 [00:00<?, ?B/s]",
            "application/vnd.jupyter.widget-view+json": {
              "version_major": 2,
              "version_minor": 0,
              "model_id": "27524237cbe34d1093c05dafa6bdc8f8"
            }
          },
          "metadata": {}
        },
        {
          "output_type": "display_data",
          "data": {
            "text/plain": "model.safetensors:   0%|          | 0.00/47.2M [00:00<?, ?B/s]",
            "application/vnd.jupyter.widget-view+json": {
              "version_major": 2,
              "version_minor": 0,
              "model_id": "16caa75fe4414f6da40194f9cbd0b4c4"
            }
          },
          "metadata": {}
        },
        {
          "name": "stderr",
          "text": "Some weights of BertForSequenceClassification were not initialized from the model checkpoint at cointegrated/rubert-tiny-toxicity and are newly initialized because the shapes did not match:\n- classifier.bias: found shape torch.Size([5]) in the checkpoint and torch.Size([1]) in the model instantiated\n- classifier.weight: found shape torch.Size([5, 312]) in the checkpoint and torch.Size([1, 312]) in the model instantiated\nYou should probably TRAIN this model on a down-stream task to be able to use it for predictions and inference.\n",
          "output_type": "stream"
        },
        {
          "output_type": "display_data",
          "data": {
            "text/plain": "tokenizer_config.json:   0%|          | 0.00/377 [00:00<?, ?B/s]",
            "application/vnd.jupyter.widget-view+json": {
              "version_major": 2,
              "version_minor": 0,
              "model_id": "c92df583ac554008a0e7fd786a5069bb"
            }
          },
          "metadata": {}
        },
        {
          "output_type": "display_data",
          "data": {
            "text/plain": "vocab.txt:   0%|          | 0.00/241k [00:00<?, ?B/s]",
            "application/vnd.jupyter.widget-view+json": {
              "version_major": 2,
              "version_minor": 0,
              "model_id": "07cb7be6d5f84b52898c3f6097796988"
            }
          },
          "metadata": {}
        },
        {
          "output_type": "display_data",
          "data": {
            "text/plain": "tokenizer.json:   0%|          | 0.00/468k [00:00<?, ?B/s]",
            "application/vnd.jupyter.widget-view+json": {
              "version_major": 2,
              "version_minor": 0,
              "model_id": "06d306c1aec4412cb5d17cbb9366be85"
            }
          },
          "metadata": {}
        },
        {
          "output_type": "display_data",
          "data": {
            "text/plain": "special_tokens_map.json:   0%|          | 0.00/112 [00:00<?, ?B/s]",
            "application/vnd.jupyter.widget-view+json": {
              "version_major": 2,
              "version_minor": 0,
              "model_id": "bc4d85f8171e4ea1922833619183c446"
            }
          },
          "metadata": {}
        },
        {
          "name": "stderr",
          "text": "/opt/conda/lib/python3.10/site-packages/transformers/tokenization_utils_base.py:1617: FutureWarning: `clean_up_tokenization_spaces` was not set. It will be set to `True` by default. This behavior will be deprecated in transformers v4.45, and will be then set to `False` by default. For more details check this issue: https://github.com/huggingface/transformers/issues/31884\n  warnings.warn(\n",
          "output_type": "stream"
        }
      ]
    },
    {
      "cell_type": "code",
      "source": [
        "class MyDataset(Dataset):\n",
        "    def __init__(self, texts, labels, tokenizer, max_length=256):\n",
        "        self.texts = texts\n",
        "        self.labels = labels\n",
        "        self.tokenizer = tokenizer\n",
        "        self.max_length = max_length\n",
        "\n",
        "    def __len__(self):\n",
        "        return len(self.texts)\n",
        "\n",
        "    def __getitem__(self, idx):\n",
        "        text = self.texts[idx]\n",
        "        label = self.labels[idx]\n",
        "        encoding = self.tokenizer.encode_plus(\n",
        "            text,\n",
        "            add_special_tokens=True,\n",
        "            max_length=self.max_length,\n",
        "            return_token_type_ids=False,\n",
        "            padding='max_length',\n",
        "            return_attention_mask=True,\n",
        "            return_tensors='pt',\n",
        "            truncation=True\n",
        "        )\n",
        "        return {\n",
        "            'input_ids': encoding['input_ids'].flatten(),\n",
        "            'attention_mask': encoding['attention_mask'].flatten(),\n",
        "            'labels': torch.tensor(label, dtype=torch.float).unsqueeze(0)\n",
        "        }"
      ],
      "metadata": {
        "execution": {
          "iopub.status.busy": "2024-11-16T05:53:47.646415Z",
          "iopub.execute_input": "2024-11-16T05:53:47.646749Z",
          "iopub.status.idle": "2024-11-16T05:53:47.654869Z",
          "shell.execute_reply.started": "2024-11-16T05:53:47.646712Z",
          "shell.execute_reply": "2024-11-16T05:53:47.653978Z"
        },
        "trusted": true,
        "id": "Lk9RcRztx-8E"
      },
      "execution_count": null,
      "outputs": []
    },
    {
      "cell_type": "code",
      "source": [
        "import pandas as pd\n",
        "train = pd.read_csv('/kaggle/input/wb_winter_24/train.csv')\n",
        "# train_1 = train[train.label == 1]\n",
        "# train_0 = train[train.label == 0].head(train_1.shape[0] * 3)\n",
        "# train = pd.concat([train_1, train_0])\n",
        "\n",
        "X_test = pd.read_csv('/kaggle/input/wb_winter_24/test.csv')\n",
        "y_test = pd.read_csv('/kaggle/input/wb_winter_24/sample_submission.csv')"
      ],
      "metadata": {
        "execution": {
          "iopub.status.busy": "2024-11-16T05:53:47.657779Z",
          "iopub.execute_input": "2024-11-16T05:53:47.658627Z",
          "iopub.status.idle": "2024-11-16T05:53:49.551406Z",
          "shell.execute_reply.started": "2024-11-16T05:53:47.658584Z",
          "shell.execute_reply": "2024-11-16T05:53:49.550537Z"
        },
        "trusted": true,
        "id": "jPm6ZvXWx-8E"
      },
      "execution_count": null,
      "outputs": []
    },
    {
      "cell_type": "code",
      "source": [
        "from sklearn.model_selection import train_test_split\n",
        "\n",
        "train_texts, test_texts, train_labels, test_labels = train_test_split(train.text, train.label, test_size=0.4, random_state=42)\n",
        "\n",
        "train_texts = train_texts.reset_index(drop=True)\n",
        "test_texts = test_texts.reset_index(drop=True)\n",
        "train_labels = train_labels.reset_index(drop=True)\n",
        "test_labels = test_labels.reset_index(drop=True)"
      ],
      "metadata": {
        "execution": {
          "iopub.status.busy": "2024-11-16T05:53:49.552690Z",
          "iopub.execute_input": "2024-11-16T05:53:49.553093Z",
          "iopub.status.idle": "2024-11-16T05:53:49.609565Z",
          "shell.execute_reply.started": "2024-11-16T05:53:49.553034Z",
          "shell.execute_reply": "2024-11-16T05:53:49.608725Z"
        },
        "trusted": true,
        "id": "WcCDyjOXx-8E"
      },
      "execution_count": null,
      "outputs": []
    },
    {
      "cell_type": "code",
      "source": [
        "train = MyDataset(train_texts, train_labels, tokenizer)\n",
        "val = MyDataset(test_texts, test_labels, tokenizer)\n",
        "test = MyDataset(X_test['text'], y_test['label'], tokenizer)"
      ],
      "metadata": {
        "execution": {
          "iopub.status.busy": "2024-11-16T05:53:49.610792Z",
          "iopub.execute_input": "2024-11-16T05:53:49.611599Z",
          "iopub.status.idle": "2024-11-16T05:53:49.618387Z",
          "shell.execute_reply.started": "2024-11-16T05:53:49.611551Z",
          "shell.execute_reply": "2024-11-16T05:53:49.617475Z"
        },
        "trusted": true,
        "id": "DSZzFfrgx-8E"
      },
      "execution_count": null,
      "outputs": []
    },
    {
      "cell_type": "code",
      "source": [
        "training_args = TrainingArguments(\n",
        "    output_dir=\"/kaggle/working/result\",\n",
        "    num_train_epochs=5,\n",
        "    per_device_train_batch_size=32,\n",
        "    per_device_eval_batch_size=64,\n",
        "    warmup_steps=2000,\n",
        "    weight_decay=0.025,\n",
        "    logging_dir=\"/kaggle/working/log\",\n",
        "    fp16=True,\n",
        "    evaluation_strategy=\"epoch\",\n",
        "    metric_for_best_model=\"precision\",\n",
        "    learning_rate=3e-5,\n",
        "    gradient_accumulation_steps=32\n",
        ")"
      ],
      "metadata": {
        "execution": {
          "iopub.status.busy": "2024-11-16T06:16:38.404879Z",
          "iopub.execute_input": "2024-11-16T06:16:38.405737Z",
          "iopub.status.idle": "2024-11-16T06:16:38.440207Z",
          "shell.execute_reply.started": "2024-11-16T06:16:38.405684Z",
          "shell.execute_reply": "2024-11-16T06:16:38.439022Z"
        },
        "trusted": true,
        "id": "sLDHcRRUx-8F",
        "outputId": "a934912b-f297-4557-94f0-076a77eb44c7"
      },
      "execution_count": null,
      "outputs": [
        {
          "name": "stderr",
          "text": "/opt/conda/lib/python3.10/site-packages/transformers/training_args.py:1545: FutureWarning: `evaluation_strategy` is deprecated and will be removed in version 4.46 of 🤗 Transformers. Use `eval_strategy` instead\n  warnings.warn(\n",
          "output_type": "stream"
        }
      ]
    },
    {
      "cell_type": "code",
      "source": [
        "optimizer = AdamW(model.parameters(), lr=1e-5, betas=(0.9, 0.999), eps=1e-8)\n",
        "lr_scheduler = get_linear_schedule_with_warmup(\n",
        "    optimizer,\n",
        "    num_warmup_steps=training_args.warmup_steps,\n",
        "    num_training_steps=len(train) // training_args.per_device_train_batch_size * training_args.num_train_epochs\n",
        ")\n"
      ],
      "metadata": {
        "execution": {
          "iopub.status.busy": "2024-11-16T06:16:38.722901Z",
          "iopub.execute_input": "2024-11-16T06:16:38.723289Z",
          "iopub.status.idle": "2024-11-16T06:16:38.733524Z",
          "shell.execute_reply.started": "2024-11-16T06:16:38.723251Z",
          "shell.execute_reply": "2024-11-16T06:16:38.732383Z"
        },
        "trusted": true,
        "id": "oMhoEW8qx-8F",
        "outputId": "8417bfeb-d3be-416a-ec75-7d69b99506d4"
      },
      "execution_count": null,
      "outputs": [
        {
          "name": "stderr",
          "text": "/opt/conda/lib/python3.10/site-packages/transformers/optimization.py:591: FutureWarning: This implementation of AdamW is deprecated and will be removed in a future version. Use the PyTorch implementation torch.optim.AdamW instead, or set `no_deprecation_warning=True` to disable this warning\n  warnings.warn(\n",
          "output_type": "stream"
        }
      ]
    },
    {
      "cell_type": "code",
      "source": [
        "trainer = Trainer(\n",
        "    model=model,\n",
        "    args=training_args,\n",
        "    train_dataset=train,\n",
        "    eval_dataset=val,\n",
        "    tokenizer=tokenizer,\n",
        "    optimizers=(optimizer, lr_scheduler)\n",
        ")\n"
      ],
      "metadata": {
        "execution": {
          "iopub.status.busy": "2024-11-16T06:16:39.230792Z",
          "iopub.execute_input": "2024-11-16T06:16:39.232037Z",
          "iopub.status.idle": "2024-11-16T06:16:39.245265Z",
          "shell.execute_reply.started": "2024-11-16T06:16:39.231995Z",
          "shell.execute_reply": "2024-11-16T06:16:39.244208Z"
        },
        "trusted": true,
        "id": "kY_Ayr1hx-8F",
        "outputId": "d85cd7ca-a982-4c82-9291-921a44955dc2"
      },
      "execution_count": null,
      "outputs": [
        {
          "name": "stderr",
          "text": "/opt/conda/lib/python3.10/site-packages/accelerate/accelerator.py:494: FutureWarning: `torch.cuda.amp.GradScaler(args...)` is deprecated. Please use `torch.amp.GradScaler('cuda', args...)` instead.\n  self.scaler = torch.cuda.amp.GradScaler(**kwargs)\n",
          "output_type": "stream"
        }
      ]
    },
    {
      "cell_type": "code",
      "source": [
        "import wandb\n",
        "\n",
        "wandb.init(mode=\"disabled\")"
      ],
      "metadata": {
        "execution": {
          "iopub.status.busy": "2024-11-16T06:16:41.806270Z",
          "iopub.execute_input": "2024-11-16T06:16:41.806707Z",
          "iopub.status.idle": "2024-11-16T06:16:41.833856Z",
          "shell.execute_reply.started": "2024-11-16T06:16:41.806645Z",
          "shell.execute_reply": "2024-11-16T06:16:41.832961Z"
        },
        "trusted": true,
        "id": "JfFcenyhx-8G",
        "outputId": "4558f8a5-58cc-42c5-ffb0-ffb1f4885eb8"
      },
      "execution_count": null,
      "outputs": [
        {
          "execution_count": 21,
          "output_type": "execute_result",
          "data": {
            "text/html": "<button onClick=\"this.nextSibling.style.display='block';this.style.display='none';\">Display W&B run</button><iframe src='?jupyter=true' style='border:none;width:100%;height:420px;display:none;'></iframe>",
            "text/plain": "<wandb.sdk.wandb_run.Run at 0x7e41d1e8bdf0>"
          },
          "metadata": {}
        }
      ]
    },
    {
      "cell_type": "code",
      "source": [
        "trainer.train()\n",
        "#7e7a8e1bd901dd143716329075bf4076db28d297"
      ],
      "metadata": {
        "execution": {
          "iopub.status.busy": "2024-11-16T06:16:42.085213Z",
          "iopub.execute_input": "2024-11-16T06:16:42.085610Z",
          "iopub.status.idle": "2024-11-16T06:52:06.721330Z",
          "shell.execute_reply.started": "2024-11-16T06:16:42.085572Z",
          "shell.execute_reply": "2024-11-16T06:52:06.720313Z"
        },
        "trusted": true,
        "id": "UQNLtc0Kx-8G",
        "outputId": "60d77872-c329-4559-ffcf-309b08e933e1"
      },
      "execution_count": null,
      "outputs": [
        {
          "output_type": "display_data",
          "data": {
            "text/plain": "<IPython.core.display.HTML object>",
            "text/html": "\n    <div>\n      \n      <progress value='700' max='700' style='width:300px; height:20px; vertical-align: middle;'></progress>\n      [700/700 35:21, Epoch 4/5]\n    </div>\n    <table border=\"1\" class=\"dataframe\">\n  <thead>\n <tr style=\"text-align: left;\">\n      <th>Epoch</th>\n      <th>Training Loss</th>\n      <th>Validation Loss</th>\n    </tr>\n  </thead>\n  <tbody>\n    <tr>\n      <td>0</td>\n      <td>No log</td>\n      <td>0.454401</td>\n    </tr>\n    <tr>\n      <td>1</td>\n      <td>No log</td>\n      <td>0.419135</td>\n    </tr>\n    <tr>\n      <td>2</td>\n      <td>No log</td>\n      <td>0.359875</td>\n    </tr>\n    <tr>\n      <td>3</td>\n      <td>0.424400</td>\n      <td>0.236638</td>\n    </tr>\n    <tr>\n      <td>4</td>\n      <td>0.424400</td>\n      <td>0.144932</td>\n    </tr>\n  </tbody>\n</table><p>"
          },
          "metadata": {}
        },
        {
          "execution_count": 22,
          "output_type": "execute_result",
          "data": {
            "text/plain": "TrainOutput(global_step=700, training_loss=0.3678544235229492, metrics={'train_runtime': 2124.2335, 'train_samples_per_second': 339.169, 'train_steps_per_second': 0.33, 'total_flos': 2642556419205120.0, 'train_loss': 0.3678544235229492, 'epoch': 4.974461470131024})"
          },
          "metadata": {}
        }
      ]
    },
    {
      "cell_type": "code",
      "source": [
        "predictions = trainer.predict(test)"
      ],
      "metadata": {
        "execution": {
          "iopub.status.busy": "2024-11-16T06:52:06.723036Z",
          "iopub.execute_input": "2024-11-16T06:52:06.723355Z",
          "iopub.status.idle": "2024-11-16T06:53:15.806182Z",
          "shell.execute_reply.started": "2024-11-16T06:52:06.723323Z",
          "shell.execute_reply": "2024-11-16T06:53:15.805255Z"
        },
        "trusted": true,
        "id": "mMxRklmwx-8G",
        "outputId": "b7272506-a813-4122-9914-746088adee54"
      },
      "execution_count": null,
      "outputs": [
        {
          "output_type": "display_data",
          "data": {
            "text/plain": "<IPython.core.display.HTML object>",
            "text/html": ""
          },
          "metadata": {}
        }
      ]
    },
    {
      "cell_type": "code",
      "source": [
        "preds = (predictions.predictions > 0.5).astype(int).squeeze()\n",
        "\n",
        "labels = predictions.label_ids\n",
        "\n",
        "from sklearn.metrics import precision_recall_fscore_support\n",
        "\n",
        "precision, recall, f1, _ = precision_recall_fscore_support(labels, preds, average='binary')\n",
        "\n",
        "print(f\"Precision: {precision}\")\n",
        "print(f\"Recall: {recall}\")\n",
        "print(f\"F1-score: {f1}\")"
      ],
      "metadata": {
        "execution": {
          "iopub.status.busy": "2024-11-16T06:53:26.402197Z",
          "iopub.execute_input": "2024-11-16T06:53:26.402615Z",
          "iopub.status.idle": "2024-11-16T06:53:26.444411Z",
          "shell.execute_reply.started": "2024-11-16T06:53:26.402577Z",
          "shell.execute_reply": "2024-11-16T06:53:26.443366Z"
        },
        "trusted": true,
        "id": "F7jHXvjpx-8H",
        "outputId": "ac519731-2a13-416d-dc93-2925687f9c10"
      },
      "execution_count": null,
      "outputs": [
        {
          "name": "stdout",
          "text": "Precision: 0.7902948977999688\nRecall: 0.9239328712148851\nF1-score: 0.8519048019510554\n",
          "output_type": "stream"
        }
      ]
    },
    {
      "cell_type": "code",
      "source": [
        "import matplotlib.pyplot as plt\n",
        "from sklearn.metrics import roc_curve, auc\n",
        "y_pred_proba = predictions.predictions.squeeze()\n",
        "y_true = predictions.label_ids\n",
        "\n",
        "fpr, tpr, _ = roc_curve(y_true, y_pred_proba)\n",
        "roc_auc = auc(fpr, tpr)\n",
        "\n",
        "plt.figure(figsize=(8, 6))\n",
        "plt.plot(fpr, tpr, color='darkorange', lw=2, label='ROC curve (area = %0.2f)' % roc_auc)\n",
        "plt.plot([0, 1], [0, 1], color='navy', lw=2, linestyle='--')\n",
        "plt.xlim([0.0, 1.0])\n",
        "plt.ylim([0.0, 1.05])\n",
        "plt.xlabel('False Positive Rate')\n",
        "plt.ylabel('True Positive Rate')\n",
        "plt.title('ROC-AUC')\n",
        "plt.legend(loc=\"lower right\")\n",
        "plt.show()"
      ],
      "metadata": {
        "execution": {
          "iopub.status.busy": "2024-11-16T06:53:15.904221Z",
          "iopub.execute_input": "2024-11-16T06:53:15.904501Z",
          "iopub.status.idle": "2024-11-16T06:53:16.206089Z",
          "shell.execute_reply.started": "2024-11-16T06:53:15.904469Z",
          "shell.execute_reply": "2024-11-16T06:53:16.205182Z"
        },
        "trusted": true,
        "id": "XOzWZA6Ux-8H",
        "outputId": "429a1c03-21e0-41be-cfee-e7a25dec6906"
      },
      "execution_count": null,
      "outputs": [
        {
          "output_type": "display_data",
          "data": {
            "text/plain": "<Figure size 800x600 with 1 Axes>",
            "image/png": "[encoded data removed]"
          },
          "metadata": {}
        }
      ]
    },
    {
      "cell_type": "code",
      "source": [
        "import matplotlib.pyplot as plt\n",
        "\n",
        "\n",
        "y_pred_proba = predictions.predictions.squeeze()\n",
        "y_true = predictions.label_ids\n",
        "\n",
        "class_0_proba = [p for p, t in zip(y_pred_proba, y_true) if t == 0]\n",
        "class_1_proba = [p for p, t in zip(y_pred_proba, y_true) if t == 1]\n",
        "\n",
        "plt.hist(class_0_proba, bins=50, alpha=0.5, label='Класс 0')\n",
        "plt.hist(class_1_proba, bins=50, alpha=0.5, label='Класс 1')\n",
        "plt.xlabel('Вероятность')\n",
        "plt.ylabel('Частота')\n",
        "plt.title('Распределение классов')\n",
        "plt.legend()\n",
        "plt.show()"
      ],
      "metadata": {
        "execution": {
          "iopub.status.busy": "2024-11-16T06:53:16.207227Z",
          "iopub.execute_input": "2024-11-16T06:53:16.207509Z",
          "iopub.status.idle": "2024-11-16T06:53:17.258759Z",
          "shell.execute_reply.started": "2024-11-16T06:53:16.207477Z",
          "shell.execute_reply": "2024-11-16T06:53:17.257717Z"
        },
        "trusted": true,
        "id": "TSvN0Rwcx-8H",
        "outputId": "ea89e7cc-5310-45a6-b407-6bfa1bdd6127"
      },
      "execution_count": null,
      "outputs": [
        {
          "output_type": "display_data",
          "data": {
            "text/plain": "<Figure size 640x480 with 1 Axes>",
            "image/png": "[encoded data removed]"
          },
          "metadata": {}
        }
      ]
    },
    {
      "cell_type": "code",
      "source": [],
      "metadata": {
        "id": "__-I6oeDx-8I"
      },
      "execution_count": null,
      "outputs": []
    }
  ]
}